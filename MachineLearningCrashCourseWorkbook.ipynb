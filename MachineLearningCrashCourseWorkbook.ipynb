{
  "nbformat": 4,
  "nbformat_minor": 0,
  "metadata": {
    "colab": {
      "provenance": [],
      "authorship_tag": "ABX9TyPG41KvgE1PTCt2US+D4J+L",
      "include_colab_link": true
    },
    "kernelspec": {
      "name": "python3",
      "display_name": "Python 3"
    },
    "language_info": {
      "name": "python"
    }
  },
  "cells": [
    {
      "cell_type": "markdown",
      "metadata": {
        "id": "view-in-github",
        "colab_type": "text"
      },
      "source": [
        "<a href=\"https://colab.research.google.com/github/mushy2003/CSinSchools/blob/main/MachineLearningCrashCourseWorkbook.ipynb\" target=\"_parent\"><img src=\"https://colab.research.google.com/assets/colab-badge.svg\" alt=\"Open In Colab\"/></a>"
      ]
    },
    {
      "cell_type": "markdown",
      "source": [
        "# Worksheet - What is Machine Learning?"
      ],
      "metadata": {
        "id": "PECjb-dCqJ2Y"
      }
    },
    {
      "cell_type": "markdown",
      "source": [
        "***1) What is the main goal of a classification algorithm?***\n",
        "\n",
        "\n",
        "> double click here, replace this text with your answer\n",
        "\n",
        "\n",
        "\n",
        "\n",
        "\n",
        "\n"
      ],
      "metadata": {
        "id": "9THt70AhqyTg"
      }
    },
    {
      "cell_type": "markdown",
      "source": [
        "\n",
        "***2) What is a regression problem in machine learning?***\n",
        "\n",
        "\n",
        "> double click here, replace this text with your answer\n",
        "\n",
        "\n"
      ],
      "metadata": {
        "id": "Zy1TGBWurF_m"
      }
    },
    {
      "cell_type": "markdown",
      "source": [
        "***3) Is recognising handwritten digits a type of classification or regression problem? Explain your answer.***\n",
        "\n",
        "\n",
        "> double click here, replace this text with your answer\n",
        "\n"
      ],
      "metadata": {
        "id": "EVkyERmfrk-l"
      }
    },
    {
      "cell_type": "markdown",
      "source": [
        "***4) What is unsupervised learning?***\n",
        "\n",
        "\n",
        "> double click here, replace this text with your answer\n",
        "\n"
      ],
      "metadata": {
        "id": "F7CV6yNltoAJ"
      }
    },
    {
      "cell_type": "markdown",
      "source": [
        "***5) Describe the basic supervised learning pipeline. In your answer include details of how you split your original dataset and what kind of evaluation metric you use to evaluate your final trained machine learning model.***\n",
        "\n",
        "\n",
        "> double click here, replace this text with your answer\n",
        "\n"
      ],
      "metadata": {
        "id": "C5UD879autAu"
      }
    },
    {
      "cell_type": "markdown",
      "source": [
        "# Worksheet - Simple Linear Regression"
      ],
      "metadata": {
        "id": "tNb4X1yFzno0"
      }
    },
    {
      "cell_type": "markdown",
      "source": [
        "***1) What is Linear Regression?***"
      ],
      "metadata": {
        "id": "ARyMXBE0u_cH"
      }
    },
    {
      "cell_type": "markdown",
      "source": [
        "***2) Descripe what Simple Linear Regression is. Give the general simple linear regression equation in your answer.***"
      ],
      "metadata": {
        "id": "mM7CPu06vACu"
      }
    },
    {
      "cell_type": "markdown",
      "source": [
        "***3) Explain the difference between Simple Linear Regression and Multiple Linear Regression. Include the general equations for both in your answer.***"
      ],
      "metadata": {
        "id": "fhdbT2TsvDSC"
      }
    },
    {
      "cell_type": "markdown",
      "source": [
        "***4) Consider the case of predicting a student's Exam Results based on the number of hours they spent revising. If we model this as a simple Linear Regression problem, write down the equation and what each of the values in the equation would represent.***"
      ],
      "metadata": {
        "id": "ckXEgiHMvG3M"
      }
    },
    {
      "cell_type": "markdown",
      "source": [
        "# Worksheet - Simple Linear Regression and Gradient Descent"
      ],
      "metadata": {
        "id": "yYfSiwcxvIz6"
      }
    },
    {
      "cell_type": "markdown",
      "source": [
        "***1) What is the algorithm called that helps us to find the optimal parameters for the line of best fit in Linear Regression?***"
      ],
      "metadata": {
        "id": "nbG7ht3JvKzr"
      }
    },
    {
      "cell_type": "markdown",
      "source": [
        "***2) (CHALLENGE) Given the simple linear regression equation $$ y = mx + c $$ and the Loss function $$ L = \\frac{1}{2} \\sum_{i=1}^{N}(\\hat{y}^{(i)} - y^{(i)})^2 $$ Calculate $$ \\frac{\\partial L}{\\partial m}$$***"
      ],
      "metadata": {
        "id": "gaOT3-DYvOLt"
      }
    },
    {
      "cell_type": "markdown",
      "source": [
        "***3) (CHALLENGE) Given the simple linear regression equation $$ y = mx + c $$ and the Loss function $$ L = \\frac{1}{2} \\sum_{i=1}^{N}(\\hat{y}^{(i)} - y^{(i)})^2 $$ Calculate $$ \\frac{\\partial L}{\\partial c}$$***"
      ],
      "metadata": {
        "id": "k9Mb7UqRvTg6"
      }
    },
    {
      "cell_type": "markdown",
      "source": [
        "***4) Write code to represent the loss function L given above in Q2 and Q3.***\n",
        "\n",
        "\n"
      ],
      "metadata": {
        "id": "QiLBT__DBUHO"
      }
    },
    {
      "cell_type": "code",
      "source": [
        "y_preds = np.random.uniform(0, 1, 200)\n",
        "y = np.random.uniform(0, 1, 200)\n",
        "\n",
        "# Write code here"
      ],
      "metadata": {
        "id": "rCyQ46RPBn6G"
      },
      "execution_count": null,
      "outputs": []
    },
    {
      "cell_type": "markdown",
      "source": [
        "***5) (CHALLENGE) Using your answers from 2 and 3, can you write some python code that runs the gradient descent algorithm***"
      ],
      "metadata": {
        "id": "lBr80F18vV17"
      }
    },
    {
      "cell_type": "code",
      "source": [
        "import numpy as np\n",
        "import matplotlib.pyplot as plt\n",
        "\n",
        "# This is the data that you'll be using\n",
        "\n",
        "X_data = np.random.uniform(0, 1, 200)\n",
        "y_data = 3*X_data + 16\n",
        "\n",
        "plt.scatter(X_data, y_data)"
      ],
      "metadata": {
        "colab": {
          "base_uri": "https://localhost:8080/",
          "height": 447
        },
        "id": "IxfWnFH5vXEM",
        "outputId": "17f786cd-2cfc-4997-d4cc-ff9469f6be54"
      },
      "execution_count": null,
      "outputs": [
        {
          "output_type": "execute_result",
          "data": {
            "text/plain": [
              "<matplotlib.collections.PathCollection at 0x7e6e7de31780>"
            ]
          },
          "metadata": {},
          "execution_count": 49
        },
        {
          "output_type": "display_data",
          "data": {
            "text/plain": [
              "<Figure size 640x480 with 1 Axes>"
            ],
            "image/png": "[encoded data removed]"
          },
          "metadata": {}
        }
      ]
    },
    {
      "cell_type": "code",
      "source": [
        "x = X_data\n",
        "y = y_data\n",
        "\n",
        "m = 104 # this is your starting value for m (this can be anything you want)\n",
        "c = 112 # this is your starting value for c (this can be anything you want)\n",
        "\n",
        "alpha = 0.0001 # This is your learning rate. I've set it to 0.0001 as it works the best\n",
        "\n",
        "for epoch in range(10000):\n",
        "  # Write your code here\n",
        "  pass\n"
      ],
      "metadata": {
        "id": "GkV-1hx4wYTO"
      },
      "execution_count": null,
      "outputs": []
    }
  ]
}